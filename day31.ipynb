{
 "cells": [
  {
   "cell_type": "code",
   "execution_count": 14,
   "id": "ce8f5ff3-203a-4d45-9708-932f30c7edb7",
   "metadata": {},
   "outputs": [
    {
     "name": "stdout",
     "output_type": "stream",
     "text": [
      " === Music App === \n",
      "\n",
      "🔥▶️ Radio Gaga\n",
      "\u001b[33m        Queen\n",
      "\n",
      "\n",
      "\u001b[0m PREV\n",
      "\u001b[32m        NEXT\n",
      "\u001b[35m              PAUSE\n",
      "\n",
      "\n",
      "Interface 2\n",
      "\u001b[0m                     WLECOME TO                    \n",
      "\u001b[34m                --    ARMBOOK    --                \n",
      "\n",
      "\u001b[33m                               Definitely not a rip off of\n",
      "\u001b[33m                                     a certain other social\n",
      "\u001b[33m                                            networking site.\n",
      "\n",
      "\u001b[31m                      Honest.                      \n",
      "\n",
      "\u001b[0m                     Username:                     \n",
      "                     Password:                      \n"
     ]
    }
   ],
   "source": [
    "#define a colour changing function\n",
    "def coloredPrint(color, text):\n",
    "  if color == \"red\":\n",
    "    print(\"\\033[31m\", text)\n",
    "  elif color == \"green\":\n",
    "    print(\"\\033[32m\", text)\n",
    "  elif color == \"blue\":\n",
    "    print(\"\\033[34m\", text)\n",
    "  elif color == \"purple\":\n",
    "    print(\"\\033[35m\", text)\n",
    "  elif color == \"yellow\":\n",
    "    print(\"\\033[33m\", text)\n",
    "  else:\n",
    "    print(\"\\033[0m\", text)\n",
    "\n",
    "#first interface\n",
    "radio = \"Radio Gaga\"\n",
    "queen = \"Queen\"\n",
    "next = \"NEXT\"\n",
    "pause = \"PAUSE\"\n",
    "\n",
    "\n",
    "print(\" === Music App === \")\n",
    "print()\n",
    "print(f\"🔥▶️ {radio: >10}\")\n",
    "coloredPrint(\"yellow\", \"{queen: >12}\".format(queen = queen))\n",
    "print()\n",
    "print()\n",
    "coloredPrint(\"white\", \"PREV\".format(end=\"\\n\"))\n",
    "coloredPrint('green', '{next: >11}'.format(next = next))\n",
    "coloredPrint('purple', '{pause: >18}'.format(pause = pause))\n",
    "print()\n",
    "print()\n",
    "#Second Interface\n",
    "print(\"Interface 2\")\n",
    "welcome = \"WLECOME TO\"\n",
    "armbook = \"--    ARMBOOK    --\"\n",
    "para1 = \"Definitely not a rip off of\"\n",
    "para2 = \"a certain other social\"\n",
    "para3 = \"networking site.\"\n",
    "honest = \"Honest.\"\n",
    "username = \"Username: \"\n",
    "password = \"Password: \"\n",
    "\n",
    "coloredPrint(\"white\", \"{welcome: ^50}\".format(welcome = welcome))\n",
    "coloredPrint(\"blue\", \"{armbook: ^50}\".format(armbook = armbook))\n",
    "print()\n",
    "coloredPrint(\"yellow\", \"{para1: >57}\".format(para1 = para1))\n",
    "coloredPrint(\"yellow\", \"{para2: >58}\".format(para2 = para2))\n",
    "coloredPrint(\"yellow\", \"{para3: >59}\".format(para3 = para3))\n",
    "print()\n",
    "coloredPrint(\"red\", \"{honest: ^50}\".format(honest = honest))\n",
    "print()\n",
    "coloredPrint(\"white\", \"{username: ^50}\".format(username= username))\n",
    "print(f\"{password: ^52}\")"
   ]
  },
  {
   "cell_type": "code",
   "execution_count": null,
   "id": "fbc00b88-6d15-41e0-8742-a3d5658bd734",
   "metadata": {},
   "outputs": [],
   "source": []
  }
 ],
 "metadata": {
  "kernelspec": {
   "display_name": "Python 3 (ipykernel)",
   "language": "python",
   "name": "python3"
  },
  "language_info": {
   "codemirror_mode": {
    "name": "ipython",
    "version": 3
   },
   "file_extension": ".py",
   "mimetype": "text/x-python",
   "name": "python",
   "nbconvert_exporter": "python",
   "pygments_lexer": "ipython3",
   "version": "3.12.4"
  }
 },
 "nbformat": 4,
 "nbformat_minor": 5
}
